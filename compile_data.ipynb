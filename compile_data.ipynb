{
 "cells": [
  {
   "cell_type": "code",
   "execution_count": null,
   "id": "bf8ef261",
   "metadata": {
    "tags": []
   },
   "outputs": [],
   "source": [
    "import pandas as pd\n",
    "import sqlalchemy\n",
    "from sqlalchemy import create_engine\n",
    "\n",
    "print(\"Pandas version: \", pd.__version__)\n",
    "print(\"SQLAlchemy version: \", sqlalchemy.__version__)\n",
    "\n",
    "pd.set_option('display.max_rows', 100)\n",
    "pd.set_option('display.max_columns', 500)\n",
    "pd.set_option('display.width', 1000)"
   ]
  },
  {
   "cell_type": "code",
   "execution_count": null,
   "id": "e7b7b84a",
   "metadata": {
    "tags": []
   },
   "outputs": [],
   "source": [
    "# Postgres username, password, and database name\n",
    "POSTGRES_ADDRESS = 'localhost' ## INSERT YOUR DB ADDRESS\n",
    "POSTGRES_PORT = 5432 ## INSERT YOUR PORT (DEFAULT IS 5432)\n",
    "POSTGRES_USERNAME = '' ## INSERT YOUR POSTGRES USERNAME\n",
    "POSTGRES_PASSWORD = '' ## INSERT YOUR POSTGRES PASSWORD\n",
    "POSTGRES_DBNAME =  '' ## INSERT YOUR POSTGRES DATABASE NAME\n",
    "\n",
    "# A long string that contains the necessary Postgres login information\n",
    "# Create the connection\n",
    "engine   = create_engine('postgresql+psycopg2://{username}:{password}@{ipaddress}:{port}/{dbname}'.format(\n",
    "    username=POSTGRES_USERNAME,\n",
    "    password=POSTGRES_PASSWORD,\n",
    "    ipaddress=POSTGRES_ADDRESS,\n",
    "    port=POSTGRES_PORT,\n",
    "    dbname=POSTGRES_DBNAME), pool_recycle=3600);\n",
    "\n",
    "if engine:\n",
    "    print(\"Connection successful!\")\n",
    "else:\n",
    "    print(\"Connection unsuccessful.\")"
   ]
  },
  {
   "cell_type": "code",
   "execution_count": null,
   "id": "2f6b6160",
   "metadata": {
    "tags": []
   },
   "outputs": [],
   "source": [
    "dbConnection = engine.connect()\n",
    "\n",
    "if dbConnection:\n",
    "    print(\"Successfully connected to the database!\")\n",
    "else:\n",
    "    print(\"Failed to connect to the database.\")"
   ]
  },
  {
   "cell_type": "code",
   "execution_count": null,
   "id": "63d02427-1fb3-459e-a2b5-022411bfa7bf",
   "metadata": {
    "tags": []
   },
   "outputs": [],
   "source": [
    "sofa_dem = pd.read_sql(\"\"\"\n",
    "    SELECT icu_adm.subject_id AS subject_id, icu_adm.hadm_id AS hadm_id, mimiciv_derived.sofa.stay_id AS stay_id,\n",
    "    admissions.admittime AS admittime, admissions.dischtime AS dischtime, admissions.deathtime AS deathtime, admissions.hospital_expire_flag AS hospital_expire_flag,\n",
    "    admissions.hospital_expire_flag AS hospital_expire_flag, admissions.insurance AS insurance, admissions.marital_status AS marital_status,  admissions.race AS race,\n",
    "    patients.dod AS dod,starttime,sepsis3.suspected_infection_time, sepsis3.sofa_time\n",
    "    FROM mimiciv_derived.sofa\n",
    "    INNER JOIN mimiciv_icu.icustays AS icu_adm\n",
    "    ON icu_adm.stay_id = mimiciv_derived.sofa.stay_id\n",
    "    INNER JOIN mimiciv_hosp.admissions AS admissions\n",
    "    ON admissions.hadm_id = icu_adm.hadm_id\n",
    "    INNER JOIN mimiciv_hosp.patients AS patients\n",
    "    ON patients.subject_id = icu_adm.subject_id\n",
    "    INNER JOIN mimiciv_derived.sepsis3 AS sepsis3\n",
    "    ON sepsis3.stay_id = mimiciv_derived.sofa.stay_id\n",
    "    \"\"\", dbConnection);\n",
    "sofa_dem.sort_values(['stay_id','starttime'])\n",
    "sofa_dem.drop_duplicates(subset=['stay_id'],inplace=True)\n",
    "# endtime is latest time at which the SOFA score is valid, endtime AS sofa_time\n",
    "#sofa_dem"
   ]
  },
  {
   "cell_type": "code",
   "execution_count": null,
   "id": "9dcd86cf-5844-426a-903b-cad5fb16cc1e",
   "metadata": {
    "tags": []
   },
   "outputs": [],
   "source": [
    "sofa_dem_2 = pd.read_sql(\"\"\"\n",
    "    SELECT icu_adm.subject_id AS subject_id, icu_adm.hadm_id AS hadm_id, icu_adm.stay_id AS stay_id,\n",
    "    icustay_detail.gender, icustay_detail.admission_age, height_1.height, weight.weight, weight.starttime AS we_time,\n",
    "    charlson_comorbidity_index\n",
    "    FROM mimiciv_derived.sepsis3 AS sepsis3\n",
    "    INNER JOIN mimiciv_icu.icustays AS icu_adm\n",
    "    ON icu_adm.stay_id = sepsis3.stay_id\n",
    "    INNER JOIN mimiciv_derived.icustay_detail AS icustay_detail\n",
    "    ON icustay_detail.stay_id = sepsis3.stay_id\n",
    "    LEFT JOIN mimiciv_derived.height AS height_1\n",
    "    ON height_1.stay_id = sepsis3.stay_id\n",
    "    LEFT JOIN mimiciv_derived.weight_durations AS weight\n",
    "    ON weight.stay_id = sepsis3.stay_id\n",
    "    LEFT JOIN mimiciv_derived.charlson AS charlson\n",
    "    ON charlson.hadm_id = icu_adm.hadm_id\n",
    "    \"\"\", dbConnection);\n",
    "\n",
    "sofa_dem_2.sort_values(['stay_id','we_time'])\n",
    "sofa_dem_2.drop_duplicates(subset=['stay_id'],inplace=True)\n",
    "sofa_dem_2.drop(labels = ['we_time','hadm_id','subject_id'], axis =1, inplace=True)\n",
    "\n",
    "sofa_dem = sofa_dem.merge(sofa_dem_2, on=['stay_id'])\n",
    "#sofa_dem"
   ]
  },
  {
   "cell_type": "code",
   "execution_count": null,
   "id": "1b60d293-6dd2-4d87-817e-7b2e1eefdfc2",
   "metadata": {
    "tags": []
   },
   "outputs": [],
   "source": [
    "sofa_val = pd.read_sql(\"\"\"\n",
    "    SELECT mimiciv_derived.sofa.stay_id AS stay_id, starttime,\n",
    "    DATE(mimiciv_derived.sofa.starttime) AS date_now, respiration_24hours, coagulation_24hours, \n",
    "    liver_24hours, cardiovascular_24hours,cns_24hours, renal_24hours, sofa_24hours, sepsis3.suspected_infection_time\n",
    "    FROM mimiciv_derived.sofa\n",
    "    INNER JOIN mimiciv_derived.sepsis3 AS sepsis3\n",
    "    ON sepsis3.stay_id = mimiciv_derived.sofa.stay_id\n",
    "    \"\"\", dbConnection);\n",
    "#print(f\"Shape of the sepsis death dataset is: {sofa_val.shape}\")\n",
    "#print(sofa_val.head())\n",
    "dbConnection.close();"
   ]
  },
  {
   "cell_type": "code",
   "execution_count": null,
   "id": "7c1ceb1e-cd4f-4dc5-af8e-f5b60d6f18f3",
   "metadata": {
    "tags": []
   },
   "outputs": [],
   "source": [
    "# Note surivaval now occus relative to when an infection is first identified\n",
    "sofa_dem['survival']=pd.to_datetime(sofa_dem['dod'])-sofa_dem['suspected_infection_time']\n",
    "sofa_dem['survival'] = sofa_dem['survival'].dt.days\n",
    "sofa_dem.loc[sofa_dem['survival'] <=30, '30d_mortality_status'] = '1'\n",
    "sofa_dem.loc[sofa_dem['survival'] > 30, '30d_mortality_status'] = '0' \n",
    "sofa_dem.loc[sofa_dem['survival'] <=90, '90d_mortality_status'] = '1'\n",
    "sofa_dem.loc[sofa_dem['survival'] > 90, '90d_mortality_status'] = '0' \n",
    "sofa_dem['30d_mortality_status'] = sofa_dem['30d_mortality_status'].fillna(0)\n",
    "sofa_dem['90d_mortality_status'] = sofa_dem['90d_mortality_status'].fillna(0)\n",
    "#sofa_dem['time_infect']=sofa_dem['suspected_infection_time']-sofa_dem['starttime']\n",
    "#sepsis3.suspected_infection_time, sepsis3.sofa_time"
   ]
  },
  {
   "cell_type": "code",
   "execution_count": null,
   "id": "693ef015-da07-4764-9c50-613955f246db",
   "metadata": {
    "tags": []
   },
   "outputs": [],
   "source": [
    "sofa_val.sort_values(['stay_id','starttime'])\n",
    "sofa_val.drop_duplicates(subset=['stay_id','date_now',\n",
    "                               'respiration_24hours','coagulation_24hours',\n",
    "                               'liver_24hours','cardiovascular_24hours',\n",
    "                               'cns_24hours','renal_24hours','sofa_24hours'] ,inplace=True)\n",
    "# remove datapoint that occured to prior to indentification of infection\n",
    "sofa_val.drop(sofa_val[sofa_val['suspected_infection_time'].dt.floor('H') > sofa_val['starttime']].index,\n",
    "                      inplace=True)\n",
    "\n",
    "sofa_val = sofa_val.join(sofa_val.groupby(['stay_id'])['date_now'].min(), on='stay_id',how='left', rsuffix='_min')\n",
    "sofa_val['day_count'] =(sofa_val['date_now']-sofa_val['date_now_min'])\n",
    "sofa_val.drop(labels = 'date_now_min', axis =1, inplace=True)\n",
    "sofa_val['day_count'] = pd.to_timedelta(sofa_val['day_count']).dt.days+1\n",
    "day_max = 14\n",
    "# Filter to keep only the first 14 days\n",
    "sofa_val = sofa_val[sofa_val['day_count'] <= day_max]\n",
    "\n",
    "# Take the maximum daily value for each stay_id and day_count\n",
    "max_values = sofa_val.groupby(['stay_id', 'day_count']).agg({\n",
    "    'respiration_24hours': 'max', \n",
    "    'coagulation_24hours': 'max', \n",
    "    'liver_24hours': 'max', \n",
    "    'cardiovascular_24hours': 'max',\n",
    "    'cns_24hours': 'max', \n",
    "    'renal_24hours': 'max'\n",
    "}).reset_index()                 "
   ]
  },
  {
   "cell_type": "code",
   "execution_count": null,
   "id": "98215e18-d7d1-49a6-b9c2-87910cbc5e34",
   "metadata": {
    "tags": []
   },
   "outputs": [],
   "source": [
    "# Create the pivot tables\n",
    "df_max_daily = pd.DataFrame({'stay_id': max_values['stay_id'].unique()})\n",
    "for column in ['respiration_24hours', 'coagulation_24hours', 'liver_24hours', 'cardiovascular_24hours', 'cns_24hours', 'renal_24hours']:\n",
    "    df_pivot = max_values.pivot(index='stay_id', columns='day_count', values=column)\n",
    "    df_pivot.columns = [f'{column}_d{day}' for day in df_pivot.columns]\n",
    "    df_max_daily = df_max_daily.merge(df_pivot.reset_index(), on='stay_id')\n",
    "\n",
    "# Merge the two DataFrames on 'stay_id'\n",
    "df_max_daily = sofa_dem[['subject_id','hadm_id','stay_id', \n",
    "                         'insurance', 'marital_status', 'race',\n",
    "                         'gender','admission_age','height','weight','charlson_comorbidity_index',\n",
    "                         'survival', '30d_mortality_status', '90d_mortality_status']].merge(df_max_daily, on='stay_id', how='left')\n",
    "\n",
    "# Define the mapping of old column names to new column names\n",
    "column_mapping = {old: old.replace('_24hours', '_SOFA') for old in df_max_daily.columns if '_24hours' in old}\n",
    "\n",
    "# Rename the columns\n",
    "df_max_daily = df_max_daily.rename(columns=column_mapping)\n",
    "\n",
    "c_list = df_max_daily.columns\n",
    "for day_num in range(1,day_max+1):\n",
    "    df_max_daily['SOFA_d{}'.format(day_num)] = df_max_daily[c_list[c_list.str.endswith('_d{}'.format(day_num))]].sum(axis=1, skipna=False)\n",
    "   \n",
    "for day_num in range(1,day_max):\n",
    "    df_max_daily['delta{}_{}'.format(day_num,day_num+1)] = df_max_daily['SOFA_d{}'.format(day_num+1)]-df_max_daily['SOFA_d{}'.format(day_num)]\n",
    "    df_max_daily['Area{}_{}'.format(day_num,day_num+1)] = (df_max_daily['SOFA_d{}'.format(day_num+1)]+df_max_daily['SOFA_d{}'.format(day_num)])/2\n",
    "\n",
    "c_list = df_max_daily.columns\n",
    "temp = df_max_daily[c_list[c_list.str.startswith('SOFA_d')]]\n",
    "df_max_daily['SOFA_max'] =temp.max(axis=1)\n",
    "df_max_daily['SOFA_min'] =temp.min(axis=1)\n",
    "df_max_daily['SOFA_range'] = df_max_daily['SOFA_max']-df_max_daily['SOFA_min']\n",
    "df_max_daily['SOFA_max_day'] =temp.idxmax(axis=1,skipna=True).str.slice(start=6)\n",
    "df_max_daily['SOFA_min_day'] =temp.idxmin(axis=1,skipna=True).str.slice(start=6)\n",
    "df_max_daily['SOFA_long_stay'] = ~pd.isnull(df_max_daily['SOFA_d8'])\n",
    "\n",
    "df_max_daily['TotalAUC'] = df_max_daily[c_list[c_list.str.contains('Area'.format(day_num))]].sum(axis=1, skipna=True)\n",
    "\n",
    "#coerces races into smaller list of categories\n",
    "race_map =pd.read_csv('race_map.csv',header=None,index_col=0)\n",
    "df_max_daily['race'] = df_max_daily['race'].map(race_map.to_dict()[1])\n",
    "\n",
    "df_max_daily.to_csv(\"sofa_parameters.csv\", index=False)"
   ]
  },
  {
   "cell_type": "code",
   "execution_count": null,
   "id": "4493f427-1291-41bc-af3e-3f9a684fe519",
   "metadata": {},
   "outputs": [],
   "source": [
    "# continue to analyze_results to run analysis"
   ]
  }
 ],
 "metadata": {
  "kernelspec": {
   "display_name": "Python 3 (ipykernel)",
   "language": "python",
   "name": "python3"
  },
  "language_info": {
   "codemirror_mode": {
    "name": "ipython",
    "version": 3
   },
   "file_extension": ".py",
   "mimetype": "text/x-python",
   "name": "python",
   "nbconvert_exporter": "python",
   "pygments_lexer": "ipython3",
   "version": "3.10.11"
  }
 },
 "nbformat": 4,
 "nbformat_minor": 5
}
